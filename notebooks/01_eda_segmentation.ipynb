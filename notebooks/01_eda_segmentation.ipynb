{
 "cells": [
  {
   "cell_type": "code",
   "execution_count": null,
   "id": "ced389ea",
   "metadata": {
    "vscode": {
     "languageId": "plaintext"
    }
   },
   "outputs": [],
   "source": [
    "# 1. Import libraries\n",
    "import pandas as pd\n",
    "import matplotlib.pyplot as plt\n",
    "import seaborn as sns\n",
    "from sklearn.preprocessing import StandardScaler\n",
    "from sklearn.decomposition import PCA\n",
    "from sklearn.cluster import KMeans\n",
    "from sklearn.metrics import silhouette_score\n",
    "\n",
    "# 2. Load processed data\n",
    "df = pd.read_csv(\"../data/processed/customer_features.csv\")\n",
    "\n",
    "# 3. Visualize distributions\n",
    "sns.histplot(df['income'])\n",
    "plt.title(\"Income Distribution\")\n",
    "plt.show()\n",
    "\n",
    "# 4. Correlation heatmap\n",
    "sns.heatmap(df.corr(), annot=True, cmap=\"coolwarm\")\n",
    "plt.title(\"Correlation Matrix\")\n",
    "plt.show()\n",
    "\n",
    "# 5. Normalize & PCA\n",
    "X = df[['age', 'gender_encoded', 'income', 'avg_spent', 'total_txn', 'region_encoded']]\n",
    "scaler = StandardScaler()\n",
    "X_scaled = scaler.fit_transform(X)\n",
    "\n",
    "pca = PCA(n_components=2)\n",
    "X_pca = pca.fit_transform(X_scaled)\n",
    "\n",
    "# 6. Elbow Method\n",
    "inertias = []\n",
    "for k in range(2, 10):\n",
    "    km = KMeans(n_clusters=k, random_state=42)\n",
    "    km.fit(X_pca)\n",
    "    inertias.append(km.inertia_)\n",
    "\n",
    "plt.plot(range(2, 10), inertias, marker='o')\n",
    "plt.title(\"Elbow Curve\")\n",
    "plt.xlabel(\"k\")\n",
    "plt.ylabel(\"Inertia\")\n",
    "plt.show()\n",
    "\n",
    "# 7. KMeans clustering\n",
    "kmeans = KMeans(n_clusters=4, random_state=42)\n",
    "clusters = kmeans.fit_predict(X_pca)\n",
    "\n",
    "# 8. Silhouette Score\n",
    "score = silhouette_score(X_pca, clusters)\n",
    "print(f\"Silhouette Score: {score:.2f}\")\n",
    "\n",
    "# 9. Visualize clusters\n",
    "plt.figure(figsize=(8, 6))\n",
    "plt.scatter(X_pca[:, 0], X_pca[:, 1], c=clusters, cmap='tab10')\n",
    "plt.title(\"Customer Segments\")\n",
    "plt.xlabel(\"PCA 1\")\n",
    "plt.ylabel(\"PCA 2\")\n",
    "plt.grid()\n",
    "plt.show()\n",
    "\n",
    "# 10. Save segmented data\n",
    "df['cluster'] = clusters\n",
    "df.to_csv(\"../data/processed/segmented_customers.csv\", index=False)\n"
   ]
  }
 ],
 "metadata": {
  "language_info": {
   "name": "python"
  }
 },
 "nbformat": 4,
 "nbformat_minor": 5
}
