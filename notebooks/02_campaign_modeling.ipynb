{
 "cells": [
  {
   "cell_type": "code",
   "execution_count": null,
   "id": "c6c2bc0a",
   "metadata": {
    "vscode": {
     "languageId": "plaintext"
    }
   },
   "outputs": [],
   "source": [
    "# 1. Libraries\n",
    "import pandas as pd\n",
    "from sklearn.model_selection import train_test_split\n",
    "from sklearn.ensemble import GradientBoostingClassifier\n",
    "from sklearn.metrics import accuracy_score, classification_report\n",
    "\n",
    "# 2. Load data\n",
    "df = pd.read_csv(\"../data/processed/segmented_customers.csv\")\n",
    "responses = pd.read_csv(\"../data/raw/campaign_responses.csv\")\n",
    "\n",
    "df = df.merge(responses, on=\"customer_id\", how=\"left\")\n",
    "df['response'] = df['response'].fillna(0)\n",
    "\n",
    "# 3. Model input/output\n",
    "features = ['age', 'income', 'avg_spent', 'total_txn', 'cluster']\n",
    "X = df[features]\n",
    "y = df['response']\n",
    "\n",
    "# 4. Train-test split\n",
    "X_train, X_test, y_train, y_test = train_test_split(X, y, test_size=0.2, random_state=42)\n",
    "\n",
    "# 5. Train classifier\n",
    "model = GradientBoostingClassifier()\n",
    "model.fit(X_train, y_train)\n",
    "\n",
    "# 6. Evaluation\n",
    "y_pred = model.predict(X_test)\n",
    "print(\"Accuracy:\", accuracy_score(y_test, y_pred))\n",
    "print(classification_report(y_test, y_pred))\n"
   ]
  }
 ],
 "metadata": {
  "language_info": {
   "name": "python"
  }
 },
 "nbformat": 4,
 "nbformat_minor": 5
}
